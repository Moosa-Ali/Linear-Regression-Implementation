{
 "cells": [
  {
   "cell_type": "markdown",
   "metadata": {},
   "source": []
  },
  {
   "cell_type": "code",
   "execution_count": 71,
   "metadata": {},
   "outputs": [],
   "source": [
    "import pandas as pd\n",
    "import numpy as np \n",
    "import matplotlib.pyplot as plt"
   ]
  },
  {
   "cell_type": "code",
   "execution_count": 72,
   "metadata": {},
   "outputs": [],
   "source": [
    "housing = pd.read_csv(\"housing.csv\")"
   ]
  },
  {
   "cell_type": "code",
   "execution_count": 73,
   "metadata": {},
   "outputs": [],
   "source": [
    "housing[\"ocean_proximity_label\"] = pd.factorize(housing[\"ocean_proximity\"])[0]"
   ]
  },
  {
   "cell_type": "code",
   "execution_count": 74,
   "metadata": {},
   "outputs": [],
   "source": [
    "data = housing.drop(columns = [\"ocean_proximity\"]) "
   ]
  },
  {
   "cell_type": "code",
   "execution_count": 75,
   "metadata": {},
   "outputs": [],
   "source": [
    "X = data[[\"longitude\", \"latitude\",\"housing_median_age\", \"total_rooms\", \"population\", \"households\", \"median_income\", \"ocean_proximity_label\"]].values\n",
    "y = data[\"median_house_value\"].values"
   ]
  },
  {
   "cell_type": "code",
   "execution_count": 76,
   "metadata": {},
   "outputs": [],
   "source": [
    "from sklearn.model_selection import train_test_split\n",
    "X_train, X_test, y_train, y_test = train_test_split(X, y, test_size = 0.20)"
   ]
  },
  {
   "cell_type": "code",
   "execution_count": 77,
   "metadata": {
    "scrolled": false
   },
   "outputs": [
    {
     "data": {
      "text/plain": [
       "(16512, 1)"
      ]
     },
     "execution_count": 77,
     "metadata": {},
     "output_type": "execute_result"
    }
   ],
   "source": [
    "X_train[:,4].reshape(len(X_train),-1).shape"
   ]
  },
  {
   "cell_type": "markdown",
   "metadata": {},
   "source": [
    "# Normal Linear Regression Applied"
   ]
  },
  {
   "cell_type": "code",
   "execution_count": 92,
   "metadata": {
    "scrolled": true
   },
   "outputs": [],
   "source": [
    "def get_pred_value(a,b,data):\n",
    "    #n = len(data.keys())\n",
    "    X = data\n",
    "    print(\"Shape of X:\", X.shape)\n",
    "    y = np.dot(X,a)+b\n",
    "    return y"
   ]
  },
  {
   "cell_type": "code",
   "execution_count": 93,
   "metadata": {},
   "outputs": [],
   "source": [
    "def get_loss(y_hat,y):\n",
    "    n = len(y)\n",
    "    y = y.reshape(n,-1) \n",
    "    diff = (y_hat-y)**2\n",
    "    summed = np.sum(diff)\n",
    "    return (1/n)*summed"
   ]
  },
  {
   "cell_type": "code",
   "execution_count": 96,
   "metadata": {},
   "outputs": [],
   "source": [
    "def update_params(data,y,coeff,b,alpha = 0.0001):\n",
    "    #get rate of change\n",
    "    n = data.shape[1]\n",
    "    y = y.reshape(len(y_train),-1)\n",
    "    b_new = b - alpha*(2/n)*sum(y_hat-y)\n",
    "    \n",
    "    for i, x in enumerate(coeff):\n",
    "        current_feat = data[:,i].reshape(len(data),-1)\n",
    "        diff = y_hat-y\n",
    "        dot = np.dot(current_feat.T,diff)\n",
    "        eva = (alpha)*((2/n)*np.sum(dot))\n",
    "        coeff[i] = coeff[i] - eva\n",
    "    print(\"a =\", coeff)\n",
    "    print(\"b =\", b_new)\n",
    "    return coeff, b_new"
   ]
  },
  {
   "cell_type": "code",
   "execution_count": 97,
   "metadata": {},
   "outputs": [
    {
     "name": "stdout",
     "output_type": "stream",
     "text": [
      "Shape of X: (16512, 8)\n",
      "Loss =======> 54786709911.33366\n",
      "a = [[-1.00660435e+08]\n",
      " [ 2.98393845e+07]\n",
      " [ 2.47413214e+07]\n",
      " [ 2.33281110e+09]\n",
      " [ 1.17542437e+09]\n",
      " [ 4.28531859e+08]\n",
      " [ 3.86519060e+06]\n",
      " [ 1.14760540e+06]]\n",
      "b = [[841467.05727963]\n",
      " [841467.05727963]\n",
      " [841467.05727963]\n",
      " ...\n",
      " [841467.05727963]\n",
      " [841467.05727963]\n",
      " [841467.05727963]]\n",
      "Shape of X: (16512, 8)\n",
      "Loss =======> 1.0645181833819024e+26\n",
      "a = [[ 3.97288351e+15]\n",
      " [-1.18183601e+15]\n",
      " [-8.32606542e+14]\n",
      " [-1.45519120e+17]\n",
      " [-7.50952107e+16]\n",
      " [-2.62275919e+16]\n",
      " [-1.36278220e+14]\n",
      " [-4.89294209e+13]]\n",
      "b = [[-3.32521067e+13]\n",
      " [-3.32521067e+13]\n",
      " [-3.32521067e+13]\n",
      " ...\n",
      " [-3.32521067e+13]\n",
      " [-3.32521067e+13]\n",
      " [-3.32521067e+13]]\n",
      "Shape of X: (16512, 8)\n",
      "Loss =======> 4.17535223174115e+41\n",
      "a = [[-2.48789953e+23]\n",
      " [ 7.40080487e+22]\n",
      " [ 5.21402798e+22]\n",
      " [ 9.11278815e+24]\n",
      " [ 4.70463531e+24]\n",
      " [ 1.64270537e+24]\n",
      " [ 8.53218706e+21]\n",
      " [ 3.06396618e+21]]\n",
      "b = [[2.08232138e+21]\n",
      " [2.08232138e+21]\n",
      " [2.08232138e+21]\n",
      " ...\n",
      " [2.08232138e+21]\n",
      " [2.08232138e+21]\n",
      " [2.08232138e+21]]\n",
      "Shape of X: (16512, 8)\n",
      "Loss =======> 1.6376982165080973e+57\n",
      "a = [[ 1.55813332e+31]\n",
      " [-4.63500967e+30]\n",
      " [-3.26547349e+30]\n",
      " [-5.70717097e+32]\n",
      " [-2.94645028e+32]\n",
      " [-1.02880006e+32]\n",
      " [-5.34355028e+29]\n",
      " [-1.91891348e+29]]\n",
      "b = [[-1.30412601e+29]\n",
      " [-1.30412601e+29]\n",
      " [-1.30412601e+29]\n",
      " ...\n",
      " [-1.30412601e+29]\n",
      " [-1.30412601e+29]\n",
      " [-1.30412601e+29]]\n",
      "Fitting complete!!\n",
      "Final Loss acheived: 1.6376982165080973e+57\n"
     ]
    }
   ],
   "source": [
    "loss = 10000\n",
    "#Randomly defining initial coefficients\n",
    "a = np.random.rand(1,X_train.shape[1]).T\n",
    "#Setting inital biases to zero\n",
    "b = np.zeros((X_train.shape[0],1),dtype=int)\n",
    "for i in range(4):\n",
    "    #get best ftt line based on current coefficients and baises\n",
    "    y_hat = get_pred_value(a,b,X_train)\n",
    "    #Calculate loss according to above predicted values\n",
    "    loss = get_loss(y_hat,y_train)\n",
    "    print(\"Loss =======>\", loss)\n",
    "    #Update parameters to minimise loss\n",
    "    a, b = update_params(X_train,y_train,a,b,alpha = 0.001)\n",
    "\n",
    "print(\"Fitting complete!!\")\n",
    "print(\"Final Loss acheived:\", loss)"
   ]
  },
  {
   "cell_type": "markdown",
   "metadata": {},
   "source": [
    "# Lasso Regression\n"
   ]
  },
  {
   "cell_type": "code",
   "execution_count": null,
   "metadata": {},
   "outputs": [],
   "source": [
    "def lasso_fit(x,y,l1 = 1, itr = 10):\n",
    "    m,n = x.shape\n",
    "    for _ in range(itr):\n",
    "        w = np.random.rand(x.shape[1],1)\n",
    "        for j in range(n):\n",
    "            yi = np.dot(x,w)\n",
    "            diff = y - yi\n",
    "    "
   ]
  }
 ],
 "metadata": {
  "kernelspec": {
   "display_name": "Python 3",
   "language": "python",
   "name": "python3"
  },
  "language_info": {
   "codemirror_mode": {
    "name": "ipython",
    "version": 3
   },
   "file_extension": ".py",
   "mimetype": "text/x-python",
   "name": "python",
   "nbconvert_exporter": "python",
   "pygments_lexer": "ipython3",
   "version": "3.8.8"
  }
 },
 "nbformat": 4,
 "nbformat_minor": 4
}
