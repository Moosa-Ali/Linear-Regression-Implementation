{
 "cells": [
  {
   "cell_type": "markdown",
   "metadata": {},
   "source": []
  },
  {
   "cell_type": "code",
   "execution_count": 1,
   "metadata": {},
   "outputs": [],
   "source": [
    "import pandas as pd\n",
    "import numpy as np \n",
    "import matplotlib.pyplot as plt"
   ]
  },
  {
   "cell_type": "code",
   "execution_count": 2,
   "metadata": {},
   "outputs": [],
   "source": [
    "housing = pd.read_csv(\"housing.csv\")"
   ]
  },
  {
   "cell_type": "code",
   "execution_count": 3,
   "metadata": {},
   "outputs": [],
   "source": [
    "housing[\"ocean_proximity_label\"] = pd.factorize(housing[\"ocean_proximity\"])[0]"
   ]
  },
  {
   "cell_type": "code",
   "execution_count": 4,
   "metadata": {},
   "outputs": [],
   "source": [
    "data = housing.drop(columns = [\"ocean_proximity\"]) "
   ]
  },
  {
   "cell_type": "code",
   "execution_count": 5,
   "metadata": {},
   "outputs": [],
   "source": [
    "X = data[[\"longitude\", \"latitude\",\"housing_median_age\", \"total_rooms\", \"population\", \"households\", \"median_income\", \"ocean_proximity_label\"]].values\n",
    "y = data[\"median_house_value\"].values"
   ]
  },
  {
   "cell_type": "code",
   "execution_count": 6,
   "metadata": {},
   "outputs": [],
   "source": [
    "from sklearn.model_selection import train_test_split\n",
    "X_train, X_test, y_train, y_test = train_test_split(X, y, test_size = 0.20)"
   ]
  },
  {
   "cell_type": "code",
   "execution_count": 7,
   "metadata": {
    "scrolled": false
   },
   "outputs": [
    {
     "data": {
      "text/plain": [
       "(16512, 8)"
      ]
     },
     "execution_count": 7,
     "metadata": {},
     "output_type": "execute_result"
    }
   ],
   "source": [
    "X_train.shape"
   ]
  },
  {
   "cell_type": "code",
   "execution_count": 35,
   "metadata": {},
   "outputs": [
    {
     "data": {
      "text/plain": [
       "array([113500., 230400., 500001., ..., 303100., 190000., 349300.])"
      ]
     },
     "execution_count": 35,
     "metadata": {},
     "output_type": "execute_result"
    }
   ],
   "source": [
    "y_train"
   ]
  },
  {
   "cell_type": "markdown",
   "metadata": {},
   "source": [
    "# Normal Linear Regression Applied"
   ]
  },
  {
   "cell_type": "code",
   "execution_count": 30,
   "metadata": {},
   "outputs": [],
   "source": [
    "def get_pred_value(data):\n",
    "    #n = len(data.keys())\n",
    "    X = data\n",
    "    print(\"Shape of X:\", X.shape)\n",
    "    a = np.random.rand(1,X.shape[1]).T\n",
    "    print(\"Shape of a:\", a.shape)\n",
    "    b = np.zeros((X.shape[0],1),dtype=int)\n",
    "    print(\"Shape of b:\", b.shape)\n",
    "    y = np.dot(X,a)+b\n",
    "    return y"
   ]
  },
  {
   "cell_type": "code",
   "execution_count": 31,
   "metadata": {},
   "outputs": [
    {
     "name": "stdout",
     "output_type": "stream",
     "text": [
      "Shape of X: (16512, 8)\n",
      "Shape of a: (8, 1)\n",
      "Shape of b: (16512, 1)\n"
     ]
    }
   ],
   "source": [
    "y_hat = get_pred_value(X_train)"
   ]
  },
  {
   "cell_type": "code",
   "execution_count": 43,
   "metadata": {},
   "outputs": [],
   "source": [
    "def get_loss(y_hat,y):\n",
    "    n = len(y)\n",
    "    y = y.reshape(n,-1) \n",
    "    diff = (y_hat-y)**2\n",
    "    summed = sum(diff)\n",
    "    return (1/n)*summed"
   ]
  },
  {
   "cell_type": "code",
   "execution_count": 44,
   "metadata": {
    "scrolled": false
   },
   "outputs": [
    {
     "name": "stdout",
     "output_type": "stream",
     "text": [
      "diff: [[1.19974377e+10]\n",
      " [5.17482659e+10]\n",
      " [2.48107256e+11]\n",
      " ...\n",
      " [9.00593638e+10]\n",
      " [3.48748203e+10]\n",
      " [1.19561573e+11]]\n",
      "sum: [8.95950824e+14]\n"
     ]
    },
    {
     "data": {
      "text/plain": [
       "array([5.42605877e+10])"
      ]
     },
     "execution_count": 44,
     "metadata": {},
     "output_type": "execute_result"
    }
   ],
   "source": [
    "get_loss(y_hat,y_train)"
   ]
  },
  {
   "cell_type": "code",
   "execution_count": null,
   "metadata": {},
   "outputs": [],
   "source": [
    "def update_params(alpha = 0.001):\n",
    "    #get rate of change\n",
    "    b_new = alpha*(2/n)*sum(y_hat-y)"
   ]
  },
  {
   "cell_type": "markdown",
   "metadata": {},
   "source": [
    "# Lasso Regression\n"
   ]
  },
  {
   "cell_type": "code",
   "execution_count": null,
   "metadata": {},
   "outputs": [],
   "source": [
    "def lasso_fit(x,y,l1 = 1, itr = 10):\n",
    "    m,n = x.shape\n",
    "    for _ in range(itr):\n",
    "        w = np.random.rand(x.shape[1],1)\n",
    "        for j in range(n):\n",
    "            yi = np.dot(x,w)\n",
    "            diff = y - yi\n",
    "    "
   ]
  }
 ],
 "metadata": {
  "kernelspec": {
   "display_name": "Python 3",
   "language": "python",
   "name": "python3"
  },
  "language_info": {
   "codemirror_mode": {
    "name": "ipython",
    "version": 3
   },
   "file_extension": ".py",
   "mimetype": "text/x-python",
   "name": "python",
   "nbconvert_exporter": "python",
   "pygments_lexer": "ipython3",
   "version": "3.8.8"
  }
 },
 "nbformat": 4,
 "nbformat_minor": 4
}
