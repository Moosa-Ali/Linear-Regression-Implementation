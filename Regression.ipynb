{
 "cells": [
  {
   "cell_type": "markdown",
   "metadata": {},
   "source": []
  },
  {
   "cell_type": "code",
   "execution_count": 15,
   "metadata": {},
   "outputs": [],
   "source": [
    "import pandas as pd\n",
    "import numpy as np \n",
    "import matplotlib.pyplot as plt"
   ]
  },
  {
   "cell_type": "code",
   "execution_count": 16,
   "metadata": {},
   "outputs": [],
   "source": [
    "housing = pd.read_csv(\"housing.csv\")"
   ]
  },
  {
   "cell_type": "code",
   "execution_count": 17,
   "metadata": {},
   "outputs": [],
   "source": [
    "housing[\"ocean_proximity_label\"] = pd.factorize(housing[\"ocean_proximity\"])[0]"
   ]
  },
  {
   "cell_type": "code",
   "execution_count": 18,
   "metadata": {},
   "outputs": [],
   "source": [
    "data = housing.drop(columns = [\"ocean_proximity\"]) "
   ]
  },
  {
   "cell_type": "code",
   "execution_count": 19,
   "metadata": {},
   "outputs": [],
   "source": [
    "X = data[[\"longitude\", \"latitude\",\"housing_median_age\", \"total_rooms\", \"population\", \"households\", \"median_income\", \"ocean_proximity_label\"]].values\n",
    "y = data[\"median_house_value\"].values"
   ]
  },
  {
   "cell_type": "code",
   "execution_count": 20,
   "metadata": {},
   "outputs": [],
   "source": [
    "from sklearn.model_selection import train_test_split\n",
    "X_train, X_test, y_train, y_test = train_test_split(X, y, test_size = 0.20)"
   ]
  },
  {
   "cell_type": "code",
   "execution_count": 21,
   "metadata": {
    "scrolled": false
   },
   "outputs": [
    {
     "data": {
      "text/plain": [
       "(16512, 1)"
      ]
     },
     "execution_count": 21,
     "metadata": {},
     "output_type": "execute_result"
    }
   ],
   "source": [
    "X_train[:,4].reshape(len(X_train),-1).shape"
   ]
  },
  {
   "cell_type": "markdown",
   "metadata": {},
   "source": [
    "# Normal Linear Regression Applied"
   ]
  },
  {
   "cell_type": "code",
   "execution_count": 22,
   "metadata": {
    "scrolled": true
   },
   "outputs": [],
   "source": [
    "def get_pred_value(a,b,data):\n",
    "    #n = len(data.keys())\n",
    "    X = data\n",
    "    print(\"Shape of X:\", X.shape)\n",
    "    y = np.dot(X,a)+b\n",
    "    return y"
   ]
  },
  {
   "cell_type": "code",
   "execution_count": 23,
   "metadata": {},
   "outputs": [],
   "source": [
    "def get_loss(y_hat,y):\n",
    "    n = len(y)\n",
    "    y = y.reshape(n,-1) \n",
    "    diff = (y_hat-y)**2\n",
    "    summed = np.sum(diff)\n",
    "    return (1/n)*summed"
   ]
  },
  {
   "cell_type": "code",
   "execution_count": 27,
   "metadata": {},
   "outputs": [],
   "source": [
    "def update_params(data,y,y_hat,coeff,b,alpha = 0.0001):\n",
    "    #get rate of change\n",
    "    n = data.shape[1]\n",
    "    y = y.reshape(len(y_train),-1)\n",
    "    b_new = b - alpha*(2/n)*np.sum(y_hat-y)\n",
    "    \n",
    "    for i, x in enumerate(coeff):\n",
    "        current_feat = data[:,i].reshape(len(data),-1)\n",
    "        diff = y_hat-y\n",
    "        dot = np.dot(current_feat.T,diff)\n",
    "        eva = (alpha)*((2/n)*np.sum(dot))\n",
    "        coeff[i] = coeff[i] - eva\n",
    "    \n",
    "    return coeff, b_new"
   ]
  },
  {
   "cell_type": "code",
   "execution_count": 28,
   "metadata": {},
   "outputs": [
    {
     "name": "stdout",
     "output_type": "stream",
     "text": [
      "Shape of X: (16512, 8)\n",
      "Loss =======> 55368789214.20479\n",
      "a = [[0.99804005]\n",
      " [0.02841696]\n",
      " [0.61198178]\n",
      " [0.16980793]\n",
      " [0.60193001]\n",
      " [0.78059846]\n",
      " [0.44564914]\n",
      " [0.82408   ]]\n",
      "b = [[0]\n",
      " [0]\n",
      " [0]\n",
      " ...\n",
      " [0]\n",
      " [0]\n",
      " [0]]\n",
      "Shape of X: (16512, 8)\n",
      "Loss =======> 1.080941757862768e+26\n",
      "a = [[-1.01201118e+08]\n",
      " [ 3.00059234e+07]\n",
      " [ 2.49106778e+07]\n",
      " [ 2.35831947e+09]\n",
      " [ 1.18809456e+09]\n",
      " [ 4.32946732e+08]\n",
      " [ 3.88876541e+06]\n",
      " [ 1.15305850e+06]]\n",
      "b = [[845923.83723542]\n",
      " [845923.83723542]\n",
      " [845923.83723542]\n",
      " ...\n",
      " [845923.83723542]\n",
      " [845923.83723542]\n",
      " [845923.83723542]]\n",
      "Shape of X: (16512, 8)\n",
      "Loss =======> 4.18660662750449e+41\n",
      "a = [[ 4.01206655e+15]\n",
      " [-1.19371153e+15]\n",
      " [-8.44356002e+14]\n",
      " [-1.46033421e+17]\n",
      " [-7.56688855e+16]\n",
      " [-2.64559283e+16]\n",
      " [-1.37695211e+14]\n",
      " [-4.93000795e+13]]\n",
      "b = [[-3.35775953e+13]\n",
      " [-3.35775953e+13]\n",
      " [-3.35775953e+13]\n",
      " ...\n",
      " [-3.35775953e+13]\n",
      " [-3.35775953e+13]\n",
      " [-3.35775953e+13]]\n",
      "Shape of X: (16512, 8)\n",
      "Loss =======> 1.6215228359642036e+57\n",
      "a = [[-2.49671359e+23]\n",
      " [ 7.42837740e+22]\n",
      " [ 5.25463687e+22]\n",
      " [ 9.08728335e+24]\n",
      " [ 4.71111984e+24]\n",
      " [ 1.64661698e+24]\n",
      " [ 8.56643211e+21]\n",
      " [ 3.06783821e+21]]\n",
      "b = [[2.08954618e+21]\n",
      " [2.08954618e+21]\n",
      " [2.08954618e+21]\n",
      " ...\n",
      " [2.08954618e+21]\n",
      " [2.08954618e+21]\n",
      " [2.08954618e+21]]\n",
      "Fitting complete!!\n",
      "Final Loss acheived: 1.6215228359642036e+57\n"
     ]
    }
   ],
   "source": [
    "loss = 10000\n",
    "#Randomly defining initial coefficients\n",
    "a = np.random.rand(1,X_train.shape[1]).T\n",
    "#Setting inital biases to zero\n",
    "b = np.zeros((X_train.shape[0],1),dtype=int)\n",
    "for i in range(4):\n",
    "    #get best ftt line based on current coefficients and baises\n",
    "    y_hat = get_pred_value(a,b,X_train)\n",
    "    #Calculate loss according to above predicted values\n",
    "    loss = get_loss(y_hat,y_train)\n",
    "    print(\"Loss =======>\", loss)\n",
    "    #Update parameters to minimise loss\n",
    "    print(\"a =\", a)\n",
    "    print(\"b =\", b)\n",
    "    a, b = update_params(X_train,y_train,y_hat,a,b,alpha = 0.001)\n",
    "\n",
    "print(\"Fitting complete!!\")\n",
    "print(\"Final Loss acheived:\", loss)"
   ]
  },
  {
   "cell_type": "markdown",
   "metadata": {},
   "source": [
    "# Lasso Regression\n"
   ]
  },
  {
   "cell_type": "code",
   "execution_count": 26,
   "metadata": {},
   "outputs": [],
   "source": [
    "def lasso_fit(x,y,l1 = 1, itr = 10):\n",
    "    m,n = x.shape\n",
    "    for _ in range(itr):\n",
    "        w = np.random.rand(x.shape[1],1)\n",
    "        for j in range(n):\n",
    "            yi = np.dot(x,w)\n",
    "            diff = y - yi\n",
    "    "
   ]
  }
 ],
 "metadata": {
  "kernelspec": {
   "display_name": "Python 3",
   "language": "python",
   "name": "python3"
  },
  "language_info": {
   "codemirror_mode": {
    "name": "ipython",
    "version": 3
   },
   "file_extension": ".py",
   "mimetype": "text/x-python",
   "name": "python",
   "nbconvert_exporter": "python",
   "pygments_lexer": "ipython3",
   "version": "3.8.5"
  }
 },
 "nbformat": 4,
 "nbformat_minor": 4
}
